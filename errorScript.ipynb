{
 "cells": [
  {
   "cell_type": "code",
   "execution_count": 1,
   "metadata": {},
   "outputs": [],
   "source": [
    "\"\"\"\n",
    "import sys\n",
    "!{sys.executable} -m pip install openpyxl\n",
    "#\"\"\""
   ]
  },
  {
   "cell_type": "code",
   "execution_count": 2,
   "metadata": {},
   "outputs": [],
   "source": [
    "'''\n",
    "CS 584: Applied BioNLP\n",
    "Assignment 1: Evaluation script\n",
    "\n",
    "The file simply loads a submission file and a gold standard and\n",
    "computes the recall, precision and F-score for the system\n",
    "\n",
    "@author Abeed Sarker\n",
    "email: abeed.sarker@dbmi.emory.edu\n",
    "\n",
    "\n",
    "Created: 09/14/2020\n",
    "'''"
   ]
  },
  {
   "cell_type": "code",
   "execution_count": 7,
   "metadata": {},
   "outputs": [],
   "source": [
    "import pandas as pd\n",
    "from collections import defaultdict\n",
    "from collections import Counter\n",
    "\n",
    "\n",
    "\n",
    "def load_labels(f_path):\n",
    "    '''\n",
    "    Loads the labels\n",
    "\n",
    "    :param f_path:\n",
    "    :return:\n",
    "    '''\n",
    "    labeled_df = pd.read_excel(f_path)\n",
    "    labeled_dict = defaultdict(list)\n",
    "    for index,row in labeled_df.iterrows():\n",
    "        id_ = row['ID']\n",
    "        if not pd.isna(row['Symptom CUIs']) and not pd.isna(row['Negation Flag']):\n",
    "            cuis = row['Symptom CUIs'].split('$$$')[1:-1]\n",
    "            neg_flags = row['Negation Flag'].split('$$$')[1:-1]\n",
    "            for cui,neg_flag in zip(cuis,neg_flags):\n",
    "                labeled_dict[id_].append(cui + '-' + str(neg_flag))\n",
    "    return labeled_dict\n"
   ]
  },
  {
   "cell_type": "code",
   "execution_count": 4,
   "metadata": {},
   "outputs": [],
   "source": [
    "gold_standard_dict = load_labels('./Assignment1GoldStandardSet.xlsx')\n",
    "#submission_dict = load_labels('./AssignmentSampleSubmission.xlsx')\n",
    "submission_dict = load_labels('./TestGold8.xlsx')"
   ]
  },
  {
   "cell_type": "code",
   "execution_count": 5,
   "metadata": {},
   "outputs": [],
   "source": [
    "#cui is not in otherCuis\n",
    "#is this because the negation flag was wrong?\n",
    "\n",
    "def isNegationError(cui, otherCuis):\n",
    "    justCui=cui[:-2]\n",
    "    for other in otherCuis:\n",
    "        otherJustCui=other[:-2]\n",
    "        if justCui==otherJustCui:\n",
    "            return True\n",
    "        \n",
    "    return False\n",
    "\n",
    "def isNegative(cui):\n",
    "    flag=cui[-1]\n",
    "    return flag=='1'\n",
    "\n"
   ]
  },
  {
   "cell_type": "code",
   "execution_count": 8,
   "metadata": {},
   "outputs": [
    {
     "data": {
      "text/plain": [
       "Counter({'pos': 198, 'neg': 14})"
      ]
     },
     "execution_count": 8,
     "metadata": {},
     "output_type": "execute_result"
    }
   ],
   "source": [
    "counts2=Counter()\n",
    "\n",
    "for k,v in gold_standard_dict.items():\n",
    "    for c in v:\n",
    "        if isNegative(c):\n",
    "            counts2['neg']+=1\n",
    "        else:\n",
    "            counts2['pos']+=1\n",
    "            \n",
    "counts2"
   ]
  },
  {
   "cell_type": "code",
   "execution_count": 9,
   "metadata": {},
   "outputs": [
    {
     "name": "stdout",
     "output_type": "stream",
     "text": [
      "True Positives: 151 False Positives:  84 False Negatives: 61\n",
      "Recall:  0.7122641509433962 \n",
      "Precision: 0.6425531914893617 \n",
      "F1-Score: 0.6756152125279643\n",
      "Counter({'fpcont': 76, 'fncont': 46, 'too neg': 20, 'fnneg': 15, 'fpneg': 8, 'notnegenogh': 3})\n"
     ]
    }
   ],
   "source": [
    "from collections import Counter\n",
    "counts=Counter()\n",
    "\n",
    "tp = 0\n",
    "tn = 0\n",
    "fp = 0\n",
    "fn = 0\n",
    "for k,v in gold_standard_dict.items():\n",
    "    for c in v:\n",
    "        try:\n",
    "            if c in submission_dict[k]:\n",
    "                tp+=1\n",
    "            else:\n",
    "                #print(c, submission_dict[k])\n",
    "                if isNegationError(c, submission_dict[k]):\n",
    "                    #print(\"is negation error\")\n",
    "                    counts['fnneg']+=1\n",
    "                    if isNegative(c):\n",
    "                        counts['notnegenogh']+=1\n",
    "                    else:\n",
    "                        counts['too neg']+=1\n",
    "                else:\n",
    "                    #print(\"is content error\")\n",
    "                    counts['fncont']+=1\n",
    "                fn+=1\n",
    "        except KeyError:#if the key is not found in the submission file, each is considered\n",
    "                        #to be a false negative..\n",
    "            fn+=1\n",
    "    for c2 in submission_dict[k]:\n",
    "        if not c2 in gold_standard_dict[k]:\n",
    "            fp+=1\n",
    "            if isNegationError(c2, gold_standard_dict[k]):\n",
    "                    #print(\"is negation error\")\n",
    "                    counts['fpneg']+=1\n",
    "                    if not isNegative(c2):\n",
    "                        counts['notnegenogh']+=1\n",
    "                    else:\n",
    "                        counts['too neg']+=1\n",
    "            else:\n",
    "                    #print(\"is content error\")\n",
    "                    counts['fpcont']+=1\n",
    "print('True Positives:',tp, 'False Positives: ', fp, 'False Negatives:', fn)\n",
    "recall = tp/(tp+fn)\n",
    "precision = tp/(tp+fp)\n",
    "f1 = (2*recall*precision)/(recall+precision)\n",
    "print('Recall: ',recall,'\\nPrecision:',precision,'\\nF1-Score:',f1)\n",
    "print(counts)\n",
    "\n"
   ]
  },
  {
   "cell_type": "code",
   "execution_count": null,
   "metadata": {},
   "outputs": [],
   "source": []
  },
  {
   "cell_type": "code",
   "execution_count": null,
   "metadata": {},
   "outputs": [],
   "source": []
  }
 ],
 "metadata": {
  "kernelspec": {
   "display_name": "BioNLPEnv",
   "language": "python",
   "name": "bionlpenv"
  },
  "language_info": {
   "codemirror_mode": {
    "name": "ipython",
    "version": 3
   },
   "file_extension": ".py",
   "mimetype": "text/x-python",
   "name": "python",
   "nbconvert_exporter": "python",
   "pygments_lexer": "ipython3",
   "version": "3.7.4"
  }
 },
 "nbformat": 4,
 "nbformat_minor": 2
}
