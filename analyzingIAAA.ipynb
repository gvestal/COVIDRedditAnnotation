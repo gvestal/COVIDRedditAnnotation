{
 "cells": [
  {
   "cell_type": "code",
   "execution_count": 1,
   "metadata": {},
   "outputs": [],
   "source": [
    "iaaa=[0.8608717894653156,\n",
    "0.8078920763159252,\n",
    "0.9885386819484241,\n",
    "0.9557375193388928,\n",
    "0.8990466146983797,\n",
    "0.8512811715782164,\n",
    "1.0,\n",
    "0.8388856978747846,\n",
    "0.8088635095508886,\n",
    "0.7766636280765724,\n",
    "0.8156889565643792,\n",
    "0.8439460959767857]"
   ]
  },
  {
   "cell_type": "code",
   "execution_count": 10,
   "metadata": {},
   "outputs": [],
   "source": [
    "import numpy as np\n",
    "import pandas as pd\n",
    "import scipy.stats as stats"
   ]
  },
  {
   "cell_type": "code",
   "execution_count": 11,
   "metadata": {},
   "outputs": [
    {
     "data": {
      "text/plain": [
       "DescribeResult(nobs=12, minmax=(0.7766636280765724, 1.0), mean=0.8706179784490472, variance=0.005498047389622375, skewness=0.6774758852756368, kurtosis=-0.8824349199626091)"
      ]
     },
     "execution_count": 11,
     "metadata": {},
     "output_type": "execute_result"
    }
   ],
   "source": [
    "stats.describe(iaaa)"
   ]
  },
  {
   "cell_type": "code",
   "execution_count": null,
   "metadata": {},
   "outputs": [],
   "source": []
  }
 ],
 "metadata": {
  "kernelspec": {
   "display_name": "BioNLPEnv",
   "language": "python",
   "name": "bionlpenv"
  },
  "language_info": {
   "codemirror_mode": {
    "name": "ipython",
    "version": 3
   },
   "file_extension": ".py",
   "mimetype": "text/x-python",
   "name": "python",
   "nbconvert_exporter": "python",
   "pygments_lexer": "ipython3",
   "version": "3.7.4"
  }
 },
 "nbformat": 4,
 "nbformat_minor": 2
}
